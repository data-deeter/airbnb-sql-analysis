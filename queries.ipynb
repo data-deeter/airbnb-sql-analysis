{
 "cells": [
  {
   "cell_type": "markdown",
   "id": "5b65aa37-2119-45db-ba69-3040d4833d15",
   "metadata": {},
   "source": [
    "# New York Airbnb Listings"
   ]
  },
  {
   "cell_type": "markdown",
   "id": "e73e090a-ee3d-4858-ba89-8a6935c76245",
   "metadata": {},
   "source": [
    "## Convert CSV into SQL database\n",
    "\n",
    "The CSV is currently located on the following path: './data/new-york-city-airbnb-open-data/AB_NYC_2019.csv'"
   ]
  },
  {
   "cell_type": "code",
   "execution_count": 1,
   "id": "8b33f55e-20d8-4512-872d-75b709f88390",
   "metadata": {},
   "outputs": [],
   "source": [
    "import pandas as pd\n",
    "import sqlite3"
   ]
  },
  {
   "cell_type": "code",
   "execution_count": 2,
   "id": "962cd8c5-9e8e-43b4-a7b9-18e91ba3747f",
   "metadata": {},
   "outputs": [
    {
     "data": {
      "text/plain": [
       "48895"
      ]
     },
     "execution_count": 2,
     "metadata": {},
     "output_type": "execute_result"
    }
   ],
   "source": [
    "# load CSV\n",
    "df = pd.read_csv('./data/new-york-city-airbnb-open-data/AB_NYC_2019.csv')\n",
    "\n",
    "# create SQLite connection and save dataframe\n",
    "conn = sqlite3.connect('airbnb.db')\n",
    "df.to_sql('airbnb_listings', conn, if_exists='replace', index=False)"
   ]
  },
  {
   "cell_type": "markdown",
   "id": "d691e01d-d5f8-4ccd-a346-869ae9c2ad75",
   "metadata": {},
   "source": [
    "#### Basic information on the dataset"
   ]
  },
  {
   "cell_type": "code",
   "execution_count": 3,
   "id": "a3afa406-0db3-4230-999c-1275eddb50fb",
   "metadata": {},
   "outputs": [
    {
     "name": "stdout",
     "output_type": "stream",
     "text": [
      "The first 10 rows of data look like...\n",
      "      id                                              name  host_id  \\\n",
      "0  2539                Clean & quiet apt home by the park     2787   \n",
      "1  2595                             Skylit Midtown Castle     2845   \n",
      "2  3647               THE VILLAGE OF HARLEM....NEW YORK !     4632   \n",
      "3  3831                   Cozy Entire Floor of Brownstone     4869   \n",
      "4  5022  Entire Apt: Spacious Studio/Loft by central park     7192   \n",
      "5  5099         Large Cozy 1 BR Apartment In Midtown East     7322   \n",
      "6  5121                                   BlissArtsSpace!     7356   \n",
      "7  5178                  Large Furnished Room Near B'way      8967   \n",
      "8  5203                Cozy Clean Guest Room - Family Apt     7490   \n",
      "9  5238                Cute & Cozy Lower East Side 1 bdrm     7549   \n",
      "\n",
      "     host_name neighbourhood_group       neighbourhood  latitude  longitude  \\\n",
      "0         John            Brooklyn          Kensington  40.64749  -73.97237   \n",
      "1     Jennifer           Manhattan             Midtown  40.75362  -73.98377   \n",
      "2    Elisabeth           Manhattan              Harlem  40.80902  -73.94190   \n",
      "3  LisaRoxanne            Brooklyn        Clinton Hill  40.68514  -73.95976   \n",
      "4        Laura           Manhattan         East Harlem  40.79851  -73.94399   \n",
      "5        Chris           Manhattan         Murray Hill  40.74767  -73.97500   \n",
      "6        Garon            Brooklyn  Bedford-Stuyvesant  40.68688  -73.95596   \n",
      "7     Shunichi           Manhattan      Hell's Kitchen  40.76489  -73.98493   \n",
      "8    MaryEllen           Manhattan     Upper West Side  40.80178  -73.96723   \n",
      "9          Ben           Manhattan           Chinatown  40.71344  -73.99037   \n",
      "\n",
      "         room_type  price  minimum_nights  number_of_reviews last_review  \\\n",
      "0     Private room    149               1                  9  2018-10-19   \n",
      "1  Entire home/apt    225               1                 45  2019-05-21   \n",
      "2     Private room    150               3                  0        None   \n",
      "3  Entire home/apt     89               1                270  2019-07-05   \n",
      "4  Entire home/apt     80              10                  9  2018-11-19   \n",
      "5  Entire home/apt    200               3                 74  2019-06-22   \n",
      "6     Private room     60              45                 49  2017-10-05   \n",
      "7     Private room     79               2                430  2019-06-24   \n",
      "8     Private room     79               2                118  2017-07-21   \n",
      "9  Entire home/apt    150               1                160  2019-06-09   \n",
      "\n",
      "   reviews_per_month  calculated_host_listings_count  availability_365  \n",
      "0               0.21                               6               365  \n",
      "1               0.38                               2               355  \n",
      "2                NaN                               1               365  \n",
      "3               4.64                               1               194  \n",
      "4               0.10                               1                 0  \n",
      "5               0.59                               1               129  \n",
      "6               0.40                               1                 0  \n",
      "7               3.47                               1               220  \n",
      "8               0.99                               1                 0  \n",
      "9               1.33                               4               188  \n",
      "\n",
      "\n",
      "The total number of listings is...\n",
      "    total_listings\n",
      "0           48895\n"
     ]
    }
   ],
   "source": [
    "# query to retrieve first 10 rows of listings\n",
    "query = \"SELECT * FROM airbnb_listings LIMIT 10\"\n",
    "result = pd.read_sql_query(query, conn)\n",
    "print(\"The first 10 rows of data look like...\\n\", result)\n",
    "\n",
    "# query to count the number of listings\n",
    "query = \"SELECT COUNT(*) AS total_listings FROM airbnb_listings\"\n",
    "result = pd.read_sql_query(query, conn)\n",
    "print(\"\\n\\nThe total number of listings is...\\n\", result)"
   ]
  },
  {
   "cell_type": "markdown",
   "id": "351c94fa-0615-49d3-ad51-ae3b4782e725",
   "metadata": {},
   "source": [
    "#### 1. What is the average price per night across neighborhoods?"
   ]
  },
  {
   "cell_type": "code",
   "execution_count": 4,
   "id": "ebeb2f19-baf2-4d7b-b4d5-f2ef3333f3ad",
   "metadata": {},
   "outputs": [
    {
     "name": "stdout",
     "output_type": "stream",
     "text": [
      "Average price of each neighbourhood listed from lowest to highest...\n",
      "   neighbourhood_group  average_price\n",
      "0               Bronx      87.496792\n",
      "1              Queens      99.517649\n",
      "2       Staten Island     114.812332\n",
      "3            Brooklyn     124.383207\n",
      "4           Manhattan     196.875814\n"
     ]
    }
   ],
   "source": [
    "# query to get the average price of listing by neighbourhood group and sort it lowest to highest\n",
    "query = \"SELECT neighbourhood_group, AVG(price) AS average_price FROM airbnb_listings GROUP BY neighbourhood_group ORDER BY average_price ASC\"\n",
    "result = pd.read_sql_query(query, conn)\n",
    "print(\"Average price of each neighbourhood listed from lowest to highest...\\n\", result)"
   ]
  },
  {
   "cell_type": "markdown",
   "id": "1977b199-757e-408e-81fb-f0a8932f3794",
   "metadata": {},
   "source": [
    "#### 2. Which neighborhoods have the most listings?"
   ]
  },
  {
   "cell_type": "code",
   "execution_count": 5,
   "id": "6a10ba7f-7f94-45c5-99c2-3def133ba8d8",
   "metadata": {},
   "outputs": [
    {
     "name": "stdout",
     "output_type": "stream",
     "text": [
      "Number of listings for each neighbourhood from highest to lowest...\n",
      "   neighbourhood_group  listings_in_neighbourhood\n",
      "0           Manhattan                      21661\n",
      "1            Brooklyn                      20104\n",
      "2              Queens                       5666\n",
      "3               Bronx                       1091\n",
      "4       Staten Island                        373\n"
     ]
    }
   ],
   "source": [
    "# query to get the number of listings in each neighbourhood and sort it from highest to lowest\n",
    "query = \"SELECT neighbourhood_group, COUNT(*) AS listings_in_neighbourhood FROM airbnb_listings GROUP BY neighbourhood_group ORDER BY listings_in_neighbourhood DESC\"\n",
    "result = pd.read_sql_query(query, conn)\n",
    "print(\"Number of listings for each neighbourhood from highest to lowest...\\n\", result)"
   ]
  },
  {
   "cell_type": "markdown",
   "id": "38d03d06-bc4f-435e-8f79-00136238767b",
   "metadata": {},
   "source": [
    "#### 3. What types of listings are most common?"
   ]
  },
  {
   "cell_type": "code",
   "execution_count": 6,
   "id": "eaee628e-943b-44a2-9e9c-dc5396242157",
   "metadata": {},
   "outputs": [
    {
     "name": "stdout",
     "output_type": "stream",
     "text": [
      "Number of listings by room type from lowest to highest...\n",
      "          room_type  number_of_room_type\n",
      "0      Shared room                 1160\n",
      "1     Private room                22326\n",
      "2  Entire home/apt                25409\n"
     ]
    }
   ],
   "source": [
    "# query to get the number of listings of each room type and sort it from lowest to highest\n",
    "query = \"SELECT room_type, COUNT(*) AS number_of_room_type FROM airbnb_listings GROUP BY room_type ORDER BY number_of_room_type ASC\"\n",
    "result = pd.read_sql_query(query, conn)\n",
    "print(\"Number of listings by room type from lowest to highest...\\n\", result)"
   ]
  },
  {
   "cell_type": "markdown",
   "id": "45f19366-2553-4b9e-8d30-8ac961bda935",
   "metadata": {},
   "source": [
    "#### 4. How do review counts vary by listing type?"
   ]
  },
  {
   "cell_type": "code",
   "execution_count": 7,
   "id": "dc311862-99a3-4e00-8a7f-37d69eb582ec",
   "metadata": {},
   "outputs": [
    {
     "name": "stdout",
     "output_type": "stream",
     "text": [
      "Average number of reviews by room type...\n",
      "          room_type  avg_number_reviews_per_type\n",
      "0     Private room                    24.112962\n",
      "1  Entire home/apt                    22.842418\n",
      "2      Shared room                    16.600000\n",
      "\n",
      "\n",
      "Average number of reviews per month by room type...\n",
      "          room_type  avg_number_reviews_per_month_per_type\n",
      "0      Shared room                               1.471726\n",
      "1     Private room                               1.445209\n",
      "2  Entire home/apt                               1.306578\n"
     ]
    }
   ],
   "source": [
    "# query to get the average number of reviews of each room type and sort it from highest to lowest\n",
    "query = \"SELECT room_type, AVG(number_of_reviews) AS avg_number_reviews_per_type FROM airbnb_listings GROUP BY room_type ORDER BY avg_number_reviews_per_type DESC\"\n",
    "result = pd.read_sql_query(query, conn)\n",
    "print(\"Average number of reviews by room type...\\n\", result)\n",
    "\n",
    "# query to get the average number of reviews per month of each room type and sort it from highest to lowest\n",
    "query = \"SELECT room_type, AVG(reviews_per_month) AS avg_number_reviews_per_month_per_type FROM airbnb_listings GROUP BY room_type ORDER BY avg_number_reviews_per_month_per_type DESC\"\n",
    "result = pd.read_sql_query(query, conn)\n",
    "print(\"\\n\\nAverage number of reviews per month by room type...\\n\", result)"
   ]
  },
  {
   "cell_type": "code",
   "execution_count": null,
   "id": "62f091cc-9ca2-45da-a4d2-596807427b9c",
   "metadata": {},
   "outputs": [],
   "source": []
  }
 ],
 "metadata": {
  "kernelspec": {
   "display_name": "Python 3 (ipykernel)",
   "language": "python",
   "name": "python3"
  },
  "language_info": {
   "codemirror_mode": {
    "name": "ipython",
    "version": 3
   },
   "file_extension": ".py",
   "mimetype": "text/x-python",
   "name": "python",
   "nbconvert_exporter": "python",
   "pygments_lexer": "ipython3",
   "version": "3.13.5"
  }
 },
 "nbformat": 4,
 "nbformat_minor": 5
}
